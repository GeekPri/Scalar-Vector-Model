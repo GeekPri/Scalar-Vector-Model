{
 "cells": [
  {
   "cell_type": "code",
   "execution_count": 3,
   "id": "dd734300-a89f-48fc-aff5-ed325614c901",
   "metadata": {
    "scrolled": true
   },
   "outputs": [
    {
     "name": "stdout",
     "output_type": "stream",
     "text": [
      "result:  [-1.49688519]\n",
      "inverse_transformed_Result:  [[45840.15433504]]\n"
     ]
    },
    {
     "name": "stderr",
     "output_type": "stream",
     "text": [
      "C:\\Users\\mpriy\\anaconda3\\Lib\\site-packages\\sklearn\\base.py:493: UserWarning: X does not have valid feature names, but StandardScaler was fitted with feature names\n",
      "  warnings.warn(\n"
     ]
    }
   ],
   "source": [
    "import pickle \n",
    "from  joblib import dump, load\n",
    "\n",
    "sc_x = load('my-standard-scaler_InputX.pkl')\n",
    "preInput = sc_x.transform([[1300,12000,4000,0,1]])\n",
    "                        \n",
    "                           \n",
    "loaded_model = pickle.load(open(\"finalized_model_SMV_50_startups.sav\", \"rb\"))\n",
    "result = loaded_model.predict(preInput)\n",
    "\n",
    "print(\"result: \", result)\n",
    "\n",
    "\n",
    "sc_y = load('my-standard-scaler_OutputY.pkl')\n",
    "inverse_transformed_Result = sc_y.inverse_transform([result])\n",
    "print(\"inverse_transformed_Result: \", inverse_transformed_Result)"
   ]
  },
  {
   "cell_type": "code",
   "execution_count": null,
   "id": "fa11ee25-4b12-4d3f-8473-c9723de88fd9",
   "metadata": {},
   "outputs": [],
   "source": []
  }
 ],
 "metadata": {
  "kernelspec": {
   "display_name": "Python [conda env:base] *",
   "language": "python",
   "name": "conda-base-py"
  },
  "language_info": {
   "codemirror_mode": {
    "name": "ipython",
    "version": 3
   },
   "file_extension": ".py",
   "mimetype": "text/x-python",
   "name": "python",
   "nbconvert_exporter": "python",
   "pygments_lexer": "ipython3",
   "version": "3.12.7"
  }
 },
 "nbformat": 4,
 "nbformat_minor": 5
}
