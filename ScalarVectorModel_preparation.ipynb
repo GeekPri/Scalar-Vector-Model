{
 "cells": [
  {
   "cell_type": "code",
   "execution_count": 91,
   "id": "dd734300-a89f-48fc-aff5-ed325614c901",
   "metadata": {
    "scrolled": true
   },
   "outputs": [
    {
     "name": "stdout",
     "output_type": "stream",
     "text": [
      "----------After Standardization-----------\n",
      "svr algorithm linear\n",
      "bias or inptercept [111274.42843578]\n",
      "support vectors or how many data points used in the model [15]\n",
      "to see the content of the support vectors [ 0  1  2  3  4  5  6  7  8  9 10 11 12 13 14]\n",
      "R2Score 0.9015347896173708\n",
      "----------------------------\n",
      "svr algorithm rbf\n",
      "bias or inptercept [112919.75529819]\n",
      "support vectors or how many data points used in the model [15]\n",
      "to see the content of the support vectors [ 0  1  2  3  4  5  6  7  8  9 10 11 12 13 14]\n",
      "R2Score 0.6999058004220233\n",
      "----------------------------\n",
      "svr algorithm poly\n",
      "bias or inptercept [121626.33508636]\n",
      "support vectors or how many data points used in the model [15]\n",
      "to see the content of the support vectors [ 0  1  2  3  4  5  6  7  8  9 10 11 12 13 14]\n",
      "R2Score 0.45111595313157227\n",
      "----------------------------\n",
      "svr algorithm sigmoid\n",
      "bias or inptercept [138643.3206723]\n",
      "support vectors or how many data points used in the model [15]\n",
      "to see the content of the support vectors [ 0  1  2  3  4  5  6  7  8  9 10 11 12 13 14]\n",
      "R2Score 0.08505410534495828\n",
      "----------------------------\n",
      "----------------------------\n"
     ]
    }
   ],
   "source": [
    "# Data collection\n",
    "import pandas as pd\n",
    "dataset = pd.read_csv(\"50_Startups.csv\")\n",
    "\n",
    "#Data Processing\n",
    "dataset = pd.get_dummies(dataset, drop_first=True)\n",
    "#Input and Output Recognition\n",
    "independent = dataset[['R&D Spend', 'Administration', 'Marketing Spend',\n",
    "       'State_Florida', 'State_New York']]\n",
    "dependent = dataset['Profit']\n",
    "\n",
    "\n",
    "#Split Data for training and testing\n",
    "from sklearn.model_selection import train_test_split\n",
    "X_train, X_test, Y_train, Y_test = train_test_split(independent, dependent, train_size= 0.30, random_state= 0)\n",
    "\n",
    "\n",
    "\n",
    "from sklearn.preprocessing import StandardScaler\n",
    "sc = StandardScaler()\n",
    "X_train = sc.fit_transform(X_train)\n",
    "X_test = sc.fit_transform(X_test)\n",
    "\n",
    "#create model\n",
    "from sklearn.svm import SVR\n",
    "def buildModelandprintnR2Score(algorithmName):\n",
    "    svr_algorithm = algorithmName\n",
    "    regressor = SVR(kernel=svr_algorithm, C=100000) \n",
    "    regressor.fit(X_train, Y_train)\n",
    "    print(\"svr algorithm\", svr_algorithm)\n",
    "    print(\"bias or inptercept\", regressor.intercept_)\n",
    "    print(\"support vectors or how many data points used in the model\", regressor.n_support_)\n",
    "    print(\"to see the content of the support vectors\", regressor.support_)\n",
    "    # evaluation\n",
    "    y_pred = regressor.predict(X_test)\n",
    "    \n",
    "    # to metrics\n",
    "    from sklearn.metrics import r2_score\n",
    "    r_score = r2_score(Y_test, y_pred)  # linear score = 0.856,8 rbf score = -0.0057, poly score = -0.003771\n",
    "    print(\"R2Score\", r_score)\n",
    "print(\"----------After Standardization-----------\")\n",
    "buildModelandprintnR2Score(\"linear\")\n",
    "print(\"----------------------------\")\n",
    "buildModelandprintnR2Score(\"rbf\")\n",
    "print(\"----------------------------\")\n",
    "buildModelandprintnR2Score(\"poly\")\n",
    "print(\"----------------------------\")\n",
    "buildModelandprintnR2Score(\"sigmoid\")\n",
    "print(\"----------------------------\")\n",
    "#buildModelandprintnR2Score(\"precomputed\")\n",
    "print(\"----------------------------\")"
   ]
  },
  {
   "cell_type": "code",
   "execution_count": null,
   "id": "a82e1e5c-1a49-4bc4-86bc-4a22842995e6",
   "metadata": {},
   "outputs": [],
   "source": [
    "r_score"
   ]
  },
  {
   "cell_type": "code",
   "execution_count": null,
   "id": "ce8f6cd6-3aef-41f1-8081-777d3df847eb",
   "metadata": {},
   "outputs": [],
   "source": []
  }
 ],
 "metadata": {
  "kernelspec": {
   "display_name": "Python [conda env:base] *",
   "language": "python",
   "name": "conda-base-py"
  },
  "language_info": {
   "codemirror_mode": {
    "name": "ipython",
    "version": 3
   },
   "file_extension": ".py",
   "mimetype": "text/x-python",
   "name": "python",
   "nbconvert_exporter": "python",
   "pygments_lexer": "ipython3",
   "version": "3.12.7"
  }
 },
 "nbformat": 4,
 "nbformat_minor": 5
}
