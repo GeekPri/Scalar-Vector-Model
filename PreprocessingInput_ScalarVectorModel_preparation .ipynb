{
 "cells": [
  {
   "cell_type": "code",
   "execution_count": 57,
   "id": "dd734300-a89f-48fc-aff5-ed325614c901",
   "metadata": {
    "scrolled": true
   },
   "outputs": [
    {
     "name": "stdout",
     "output_type": "stream",
     "text": [
      "R2Score 1 0.9239983428118113\n",
      "result:  [39951.22469169]\n"
     ]
    },
    {
     "name": "stderr",
     "output_type": "stream",
     "text": [
      "C:\\Users\\mpriy\\anaconda3\\Lib\\site-packages\\sklearn\\base.py:493: UserWarning: X does not have valid feature names, but StandardScaler was fitted with feature names\n",
      "  warnings.warn(\n"
     ]
    }
   ],
   "source": [
    "# Data collection\n",
    "import pandas as pd\n",
    "dataset = pd.read_csv(\"50_Startups.csv\")\n",
    "\n",
    "#Data Processing\n",
    "dataset = pd.get_dummies(dataset, drop_first=True)\n",
    "#Input and Output Recognition\n",
    "independent = dataset[['R&D Spend', 'Administration', 'Marketing Spend',\n",
    "       'State_Florida', 'State_New York']]\n",
    "dependent = dataset['Profit']\n",
    "\n",
    "\n",
    "#Split Data for training and testing\n",
    "from sklearn.model_selection import train_test_split\n",
    "X_train, X_test, Y_train, Y_test = train_test_split(independent, dependent, test_size= 0.30, random_state= 0)\n",
    "\n",
    "#preprocess the X input for better accuracy or R2 score\n",
    "from sklearn.preprocessing import StandardScaler\n",
    "sc = StandardScaler()\n",
    "\n",
    "from  joblib import dump, load\n",
    "X_train = sc.fit_transform(X_train)\n",
    "X_test = sc.transform(X_test) # from the above the mean is calculated and so no need to do fit_transform again\n",
    "dump(sc, 'my-standard-scaler.pkl') # save as a file\n",
    "\n",
    "#create model\n",
    "regressor = SVR(kernel=\"linear\", C=10000) \n",
    "regressor.fit(X_train, Y_train) \n",
    "    \n",
    "# evaluation\n",
    "y_pred = regressor.predict(X_test)\n",
    "    \n",
    "# to metrics\n",
    "from sklearn.metrics import r2_score\n",
    "r_score = r2_score(Y_test, y_pred) \n",
    "\n",
    "print(\"R2Score 1\", r_score )\n",
    "\n",
    "import pickle\n",
    "filename = \"finalized_model_SMV_50_startups.sav\"\n",
    "pickle.dump(regressor, open(filename, \"wb\"))\n",
    " \n",
    "sc = load('my-standard-scaler.pkl')\n",
    "preInput = sc.transform([[1300,12000,4000,0,1]])\n",
    "                        \n",
    "\n",
    "loaded_model = pickle.load(open(\"finalized_model_SMV_50_startups.sav\", \"rb\"))\n",
    "result = loaded_model.predict(preInput)\n",
    "print(\"result: \", result)"
   ]
  },
  {
   "cell_type": "code",
   "execution_count": 53,
   "id": "676a4c94-d24c-42e3-9006-089f1e3de832",
   "metadata": {},
   "outputs": [
    {
     "data": {
      "text/plain": [
       "array([39951.22469169])"
      ]
     },
     "execution_count": 53,
     "metadata": {},
     "output_type": "execute_result"
    }
   ],
   "source": [
    "result"
   ]
  },
  {
   "cell_type": "code",
   "execution_count": null,
   "id": "22cdd748-1cd2-4251-9f3a-d9b2b2be3b46",
   "metadata": {},
   "outputs": [],
   "source": []
  },
  {
   "cell_type": "code",
   "execution_count": null,
   "id": "fd6137a3-5bda-41b2-9553-3776ae4eabc1",
   "metadata": {},
   "outputs": [],
   "source": []
  }
 ],
 "metadata": {
  "kernelspec": {
   "display_name": "Python [conda env:base] *",
   "language": "python",
   "name": "conda-base-py"
  },
  "language_info": {
   "codemirror_mode": {
    "name": "ipython",
    "version": 3
   },
   "file_extension": ".py",
   "mimetype": "text/x-python",
   "name": "python",
   "nbconvert_exporter": "python",
   "pygments_lexer": "ipython3",
   "version": "3.12.7"
  }
 },
 "nbformat": 4,
 "nbformat_minor": 5
}
