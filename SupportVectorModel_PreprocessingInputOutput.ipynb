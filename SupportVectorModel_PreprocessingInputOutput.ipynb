{
 "cells": [
  {
   "cell_type": "code",
   "execution_count": 53,
   "id": "dd734300-a89f-48fc-aff5-ed325614c901",
   "metadata": {
    "scrolled": true
   },
   "outputs": [
    {
     "name": "stderr",
     "output_type": "stream",
     "text": [
      "C:\\Users\\mpriy\\anaconda3\\Lib\\site-packages\\sklearn\\utils\\validation.py:1339: DataConversionWarning: A column-vector y was passed when a 1d array was expected. Please change the shape of y to (n_samples, ), for example using ravel().\n",
      "  y = column_or_1d(y, warn=True)\n"
     ]
    },
    {
     "name": "stdout",
     "output_type": "stream",
     "text": [
      "R2Score 1 0.9373100593669095\n",
      "result:  [-1.49688519]\n",
      "inverse_transformed_Result:  [[45840.15433504]]\n"
     ]
    },
    {
     "name": "stderr",
     "output_type": "stream",
     "text": [
      "C:\\Users\\mpriy\\anaconda3\\Lib\\site-packages\\sklearn\\base.py:493: UserWarning: X does not have valid feature names, but StandardScaler was fitted with feature names\n",
      "  warnings.warn(\n"
     ]
    }
   ],
   "source": [
    "# Data collection\n",
    "import pandas as pd\n",
    "dataset = pd.read_csv(\"50_Startups.csv\")\n",
    "\n",
    "#Data Processing\n",
    "dataset = pd.get_dummies(dataset, drop_first=True)\n",
    "#Input and Output Recognition\n",
    "independent = dataset[['R&D Spend', 'Administration', 'Marketing Spend',\n",
    "       'State_Florida', 'State_New York']]\n",
    "dependent = dataset['Profit']\n",
    "\n",
    "\n",
    "#Split Data for training and testing\n",
    "from sklearn.model_selection import train_test_split\n",
    "X_train, X_test, Y_train, Y_test = train_test_split(independent, dependent, test_size= 0.30, random_state= 0)\n",
    "\n",
    "#preprocess the X input for better accuracy or R2 score\n",
    "from sklearn.preprocessing import StandardScaler\n",
    "sc_x = StandardScaler()\n",
    "\n",
    "from  joblib import dump, load\n",
    "X_train = sc_x.fit_transform(X_train)\n",
    "X_test = sc_x.transform(X_test) # from the above the mean is calculated and so no need to do fit_transform again\n",
    "dump(sc_x, 'my-standard-scaler_InputX.pkl') # save as a file\n",
    "\n",
    "#preprocess the Y input for better accuracy or R2 score\n",
    "sc_y = StandardScaler()\n",
    "Y_train = Y_train.values.reshape(-1, 1)\n",
    "Y_train = sc_y.fit_transform(Y_train)\n",
    "\n",
    "Y_test = Y_test.values.reshape(-1, 1)\n",
    "Y_test = sc_y.transform(Y_test) # from the above the mean is calculated and so no need to do fit_transform again\n",
    "dump(sc_y, 'my-standard-scaler_OutputY.pkl') # save as a file\n",
    "#create model\n",
    "from sklearn.svm import SVR\n",
    "regressor = SVR(kernel=\"linear\", C=10000) \n",
    "regressor.fit(X_train, Y_train) \n",
    "    \n",
    "# evaluation\n",
    "y_pred = regressor.predict(X_test)\n",
    "    \n",
    "# to metrics\n",
    "from sklearn.metrics import r2_score\n",
    "r_score = r2_score(Y_test, y_pred) \n",
    "\n",
    "print(\"R2Score 1\", r_score )\n",
    "\n",
    "import pickle\n",
    "filename = \"finalized_model_SMV_50_startups.sav\"\n",
    "pickle.dump(regressor, open(filename, \"wb\"))\n",
    " \n",
    "sc_x = load('my-standard-scaler_InputX.pkl')\n",
    "preInput = sc_x.transform([[1300,12000,4000,0,1]])\n",
    "                        \n",
    "                           \n",
    "loaded_model = pickle.load(open(\"finalized_model_SMV_50_startups.sav\", \"rb\"))\n",
    "result = loaded_model.predict(preInput)\n",
    "print(\"result: \", result)\n",
    "sc_y = load('my-standard-scaler_OutputY.pkl')\n",
    "inverse_transformed_Result = sc_y.inverse_transform([result])\n",
    "print(\"inverse_transformed_Result: \", inverse_transformed_Result)"
   ]
  },
  {
   "cell_type": "code",
   "execution_count": null,
   "id": "fa11ee25-4b12-4d3f-8473-c9723de88fd9",
   "metadata": {},
   "outputs": [],
   "source": []
  }
 ],
 "metadata": {
  "kernelspec": {
   "display_name": "Python [conda env:base] *",
   "language": "python",
   "name": "conda-base-py"
  },
  "language_info": {
   "codemirror_mode": {
    "name": "ipython",
    "version": 3
   },
   "file_extension": ".py",
   "mimetype": "text/x-python",
   "name": "python",
   "nbconvert_exporter": "python",
   "pygments_lexer": "ipython3",
   "version": "3.12.7"
  }
 },
 "nbformat": 4,
 "nbformat_minor": 5
}
